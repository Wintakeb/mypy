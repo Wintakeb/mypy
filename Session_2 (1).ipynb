{
 "cells": [
  {
   "cell_type": "code",
   "execution_count": 5,
   "metadata": {
    "collapsed": true
   },
   "outputs": [],
   "source": [
    "import numpy\n"
   ]
  },
  {
   "cell_type": "code",
   "execution_count": 6,
   "metadata": {},
   "outputs": [
    {
     "ename": "TypeError",
     "evalue": "mean() missing 1 required positional argument: 'a'",
     "output_type": "error",
     "traceback": [
      "\u001b[1;31m---------------------------------------------------------------------------\u001b[0m",
      "\u001b[1;31mTypeError\u001b[0m                                 Traceback (most recent call last)",
      "\u001b[1;32m<ipython-input-6-c4733144ffa4>\u001b[0m in \u001b[0;36m<module>\u001b[1;34m()\u001b[0m\n\u001b[1;32m----> 1\u001b[1;33m \u001b[0mnumpy\u001b[0m\u001b[1;33m.\u001b[0m\u001b[0mmean\u001b[0m\u001b[1;33m(\u001b[0m\u001b[1;33m)\u001b[0m\u001b[1;33m\u001b[0m\u001b[0m\n\u001b[0m",
      "\u001b[1;31mTypeError\u001b[0m: mean() missing 1 required positional argument: 'a'"
     ]
    }
   ],
   "source": [
    "numpy.mean()"
   ]
  },
  {
   "cell_type": "code",
   "execution_count": 3,
   "metadata": {
    "collapsed": true
   },
   "outputs": [],
   "source": [
    "import time"
   ]
  },
  {
   "cell_type": "code",
   "execution_count": 5,
   "metadata": {},
   "outputs": [
    {
     "data": {
      "text/plain": [
       "'Wed Jun  7 18:13:26 2017'"
      ]
     },
     "execution_count": 5,
     "metadata": {},
     "output_type": "execute_result"
    }
   ],
   "source": [
    "time.ctime()"
   ]
  },
  {
   "cell_type": "code",
   "execution_count": 4,
   "metadata": {},
   "outputs": [
    {
     "ename": "SyntaxError",
     "evalue": "(unicode error) 'unicodeescape' codec can't decode bytes in position 2-3: truncated \\UXXXXXXXX escape (<ipython-input-4-b4e37fa33c45>, line 1)",
     "output_type": "error",
     "traceback": [
      "\u001b[1;36m  File \u001b[1;32m\"<ipython-input-4-b4e37fa33c45>\"\u001b[1;36m, line \u001b[1;32m1\u001b[0m\n\u001b[1;33m    data = numpy.loadtxt(\"C:\\Users\\Administrator\\Downloads\\python-novice-inflammation-data\\data\")\u001b[0m\n\u001b[1;37m                        ^\u001b[0m\n\u001b[1;31mSyntaxError\u001b[0m\u001b[1;31m:\u001b[0m (unicode error) 'unicodeescape' codec can't decode bytes in position 2-3: truncated \\UXXXXXXXX escape\n"
     ]
    }
   ],
   "source": [
    "data = numpy.loadtxt(\"C:\\Users\\Administrator\\Downloads\\python-novice-inflammation-data\\data\")"
   ]
  },
  {
   "cell_type": "code",
   "execution_count": 10,
   "metadata": {
    "collapsed": true
   },
   "outputs": [],
   "source": [
    "data_mean = numpy.mean(data)"
   ]
  },
  {
   "cell_type": "code",
   "execution_count": 11,
   "metadata": {},
   "outputs": [
    {
     "name": "stdout",
     "output_type": "stream",
     "text": [
      "6.14875\n"
     ]
    }
   ],
   "source": [
    "print (data_mean)"
   ]
  },
  {
   "cell_type": "code",
   "execution_count": 12,
   "metadata": {},
   "outputs": [
    {
     "data": {
      "text/plain": [
       "6.1487499999999997"
      ]
     },
     "execution_count": 12,
     "metadata": {},
     "output_type": "execute_result"
    }
   ],
   "source": [
    "data_mean"
   ]
  },
  {
   "cell_type": "code",
   "execution_count": 13,
   "metadata": {
    "collapsed": true
   },
   "outputs": [],
   "source": [
    "mean_val , max_val, min_val = numpy.mean(data), numpy.max(data), numpy.min(data)"
   ]
  },
  {
   "cell_type": "code",
   "execution_count": 14,
   "metadata": {
    "collapsed": true
   },
   "outputs": [],
   "source": [
    "import numpy as np"
   ]
  },
  {
   "cell_type": "code",
   "execution_count": 15,
   "metadata": {
    "collapsed": true
   },
   "outputs": [],
   "source": [
    "mean_val = np.mean(data)"
   ]
  },
  {
   "cell_type": "code",
   "execution_count": 16,
   "metadata": {
    "collapsed": true
   },
   "outputs": [],
   "source": [
    "import matplotlib.pyplot as plt\n"
   ]
  },
  {
   "cell_type": "code",
   "execution_count": 17,
   "metadata": {},
   "outputs": [
    {
     "name": "stdout",
     "output_type": "stream",
     "text": [
      "Variable    Type       Data/Info\n",
      "--------------------------------\n",
      "data        ndarray    60x40: 2400 elems, type `float64`, 19200 bytes\n",
      "data_mean   float64    6.14875\n",
      "max_val     float64    20.0\n",
      "mean_val    float64    6.14875\n",
      "min_val     float64    0.0\n",
      "np          module     <module 'numpy' from '/Us<...>kages/numpy/__init__.py'>\n",
      "numpy       module     <module 'numpy' from '/Us<...>kages/numpy/__init__.py'>\n",
      "plt         module     <module 'matplotlib.pyplo<...>es/matplotlib/pyplot.py'>\n",
      "time        module     <module 'time' (built-in)>\n"
     ]
    }
   ],
   "source": [
    "%whos"
   ]
  },
  {
   "cell_type": "code",
   "execution_count": 18,
   "metadata": {
    "collapsed": true
   },
   "outputs": [],
   "source": [
    "fig = plt.figure?"
   ]
  },
  {
   "cell_type": "code",
   "execution_count": 19,
   "metadata": {
    "collapsed": true
   },
   "outputs": [],
   "source": [
    "fig = plt.figure(figsize=(10,3))"
   ]
  },
  {
   "cell_type": "code",
   "execution_count": 20,
   "metadata": {
    "collapsed": true
   },
   "outputs": [],
   "source": [
    "axes1 = fig.add_subplot(1,3,1)"
   ]
  },
  {
   "cell_type": "code",
   "execution_count": 27,
   "metadata": {},
   "outputs": [
    {
     "data": {
      "text/plain": [
       "[<matplotlib.lines.Line2D at 0x11726cd68>]"
      ]
     },
     "execution_count": 27,
     "metadata": {},
     "output_type": "execute_result"
    }
   ],
   "source": [
    "axes1.plot(np.mean(data, axis=1))"
   ]
  },
  {
   "cell_type": "code",
   "execution_count": 29,
   "metadata": {
    "collapsed": true
   },
   "outputs": [],
   "source": [
    "plt.show()"
   ]
  },
  {
   "cell_type": "code",
   "execution_count": 30,
   "metadata": {},
   "outputs": [
    {
     "name": "stderr",
     "output_type": "stream",
     "text": [
      "/Users/teaching/anaconda/lib/python3.6/site-packages/matplotlib/figure.py:402: UserWarning: matplotlib is currently using a non-GUI backend, so cannot show the figure\n",
      "  \"matplotlib is currently using a non-GUI backend, \"\n"
     ]
    }
   ],
   "source": [
    "fig.show()"
   ]
  },
  {
   "cell_type": "code",
   "execution_count": 31,
   "metadata": {
    "collapsed": true
   },
   "outputs": [],
   "source": [
    "plt.show()"
   ]
  },
  {
   "cell_type": "code",
   "execution_count": 32,
   "metadata": {
    "collapsed": true
   },
   "outputs": [],
   "source": [
    "element = \"string\""
   ]
  },
  {
   "cell_type": "code",
   "execution_count": 33,
   "metadata": {},
   "outputs": [
    {
     "data": {
      "text/plain": [
       "'s'"
      ]
     },
     "execution_count": 33,
     "metadata": {},
     "output_type": "execute_result"
    }
   ],
   "source": [
    "element[0]"
   ]
  },
  {
   "cell_type": "code",
   "execution_count": 34,
   "metadata": {},
   "outputs": [
    {
     "data": {
      "text/plain": [
       "6"
      ]
     },
     "execution_count": 34,
     "metadata": {},
     "output_type": "execute_result"
    }
   ],
   "source": [
    "len(element)"
   ]
  },
  {
   "cell_type": "code",
   "execution_count": 35,
   "metadata": {},
   "outputs": [
    {
     "data": {
      "text/plain": [
       "'g'"
      ]
     },
     "execution_count": 35,
     "metadata": {},
     "output_type": "execute_result"
    }
   ],
   "source": [
    "element[5]"
   ]
  },
  {
   "cell_type": "code",
   "execution_count": 36,
   "metadata": {},
   "outputs": [
    {
     "data": {
      "text/plain": [
       "'g'"
      ]
     },
     "execution_count": 36,
     "metadata": {},
     "output_type": "execute_result"
    }
   ],
   "source": [
    "element[-1]"
   ]
  },
  {
   "cell_type": "code",
   "execution_count": 37,
   "metadata": {
    "collapsed": true
   },
   "outputs": [],
   "source": [
    "word = \"universe\""
   ]
  },
  {
   "cell_type": "code",
   "execution_count": 38,
   "metadata": {},
   "outputs": [
    {
     "name": "stdout",
     "output_type": "stream",
     "text": [
      "u\n",
      "e\n"
     ]
    }
   ],
   "source": [
    "print(word[0])\n",
    "print(word[7])"
   ]
  },
  {
   "cell_type": "code",
   "execution_count": 39,
   "metadata": {},
   "outputs": [
    {
     "ename": "IndexError",
     "evalue": "string index out of range",
     "output_type": "error",
     "traceback": [
      "\u001b[0;31m---------------------------------------------------------------------------\u001b[0m",
      "\u001b[0;31mIndexError\u001b[0m                                Traceback (most recent call last)",
      "\u001b[0;32m<ipython-input-39-8f5ce6ebbcf9>\u001b[0m in \u001b[0;36m<module>\u001b[0;34m()\u001b[0m\n\u001b[1;32m      1\u001b[0m \u001b[0mword\u001b[0m \u001b[0;34m=\u001b[0m \u001b[0;34m\"elem\"\u001b[0m\u001b[0;34m\u001b[0m\u001b[0m\n\u001b[1;32m      2\u001b[0m \u001b[0;34m\u001b[0m\u001b[0m\n\u001b[0;32m----> 3\u001b[0;31m \u001b[0mprint\u001b[0m\u001b[0;34m(\u001b[0m\u001b[0mword\u001b[0m\u001b[0;34m[\u001b[0m\u001b[0;36m7\u001b[0m\u001b[0;34m]\u001b[0m\u001b[0;34m)\u001b[0m\u001b[0;34m\u001b[0m\u001b[0m\n\u001b[0m",
      "\u001b[0;31mIndexError\u001b[0m: string index out of range"
     ]
    }
   ],
   "source": [
    "word = \"elem\"\n",
    "\n",
    "print(word[7])"
   ]
  },
  {
   "cell_type": "code",
   "execution_count": 40,
   "metadata": {},
   "outputs": [
    {
     "name": "stdout",
     "output_type": "stream",
     "text": [
      "e\n",
      "l\n",
      "e\n",
      "m\n"
     ]
    }
   ],
   "source": [
    "for char in word:\n",
    "    print(char)"
   ]
  },
  {
   "cell_type": "code",
   "execution_count": 43,
   "metadata": {},
   "outputs": [
    {
     "name": "stdout",
     "output_type": "stream",
     "text": [
      "e\n",
      "l\n",
      "e\n",
      "m\n"
     ]
    }
   ],
   "source": [
    "for x in word:\n",
    "    print(x)"
   ]
  },
  {
   "cell_type": "code",
   "execution_count": 44,
   "metadata": {},
   "outputs": [
    {
     "name": "stdout",
     "output_type": "stream",
     "text": [
      "a\n",
      "b\n",
      "c\n",
      "letter after the loop c\n"
     ]
    }
   ],
   "source": [
    "letter = 'z'\n",
    "for letter in 'abc':\n",
    "    print(letter)\n",
    "    \n",
    "print('letter after the loop', letter)    "
   ]
  },
  {
   "cell_type": "code",
   "execution_count": 45,
   "metadata": {},
   "outputs": [
    {
     "name": "stdout",
     "output_type": "stream",
     "text": [
      "8\n"
     ]
    }
   ],
   "source": [
    "word = 'universe'\n",
    "\n",
    "length = 0 \n",
    "\n",
    "for whatever in word:\n",
    "    length= length+1\n",
    "    \n",
    "print(length)    \n"
   ]
  },
  {
   "cell_type": "code",
   "execution_count": 19,
   "metadata": {},
   "outputs": [
    {
     "name": "stdout",
     "output_type": "stream",
     "text": [
      "0\n",
      "1\n",
      "2\n",
      "3\n",
      "4\n"
     ]
    }
   ],
   "source": [
    "for i in range(5):\n",
    "    print (i)"
   ]
  },
  {
   "cell_type": "code",
   "execution_count": 20,
   "metadata": {},
   "outputs": [
    {
     "name": "stdout",
     "output_type": "stream",
     "text": [
      "2\n",
      "3\n",
      "4\n"
     ]
    }
   ],
   "source": [
    "for i in range(2,5):\n",
    "    print (i)"
   ]
  },
  {
   "cell_type": "code",
   "execution_count": 21,
   "metadata": {},
   "outputs": [
    {
     "data": {
      "text/plain": [
       "125"
      ]
     },
     "execution_count": 21,
     "metadata": {},
     "output_type": "execute_result"
    }
   ],
   "source": [
    "x=5\n",
    "y=3\n",
    "x**y"
   ]
  },
  {
   "cell_type": "code",
   "execution_count": 26,
   "metadata": {},
   "outputs": [
    {
     "name": "stdout",
     "output_type": "stream",
     "text": [
      "5\n",
      "25\n",
      "125\n"
     ]
    }
   ],
   "source": [
    "a=1\n",
    "for n in range (1, y+1):\n",
    "    a =a*x\n",
    "    print(a)"
   ]
  },
  {
   "cell_type": "code",
   "execution_count": null,
   "metadata": {
    "collapsed": true
   },
   "outputs": [],
   "source": [
    "char1=\"a\"\n"
   ]
  },
  {
   "cell_type": "code",
   "execution_count": null,
   "metadata": {
    "collapsed": true
   },
   "outputs": [],
   "source": [
    "char2=\"b\""
   ]
  },
  {
   "cell_type": "code",
   "execution_count": 29,
   "metadata": {
    "collapsed": true
   },
   "outputs": [],
   "source": [
    "word=\"Universe\""
   ]
  },
  {
   "cell_type": "code",
   "execution_count": 40,
   "metadata": {},
   "outputs": [
    {
     "name": "stdout",
     "output_type": "stream",
     "text": [
      "0\n",
      "U\n",
      "1\n",
      "Un\n",
      "2\n",
      "Uni\n",
      "3\n",
      "Univ\n",
      "4\n",
      "Unive\n",
      "5\n",
      "Univer\n",
      "6\n",
      "Univers\n"
     ]
    }
   ],
   "source": [
    "word =\"Universe\"\n",
    "rev =''\n",
    "for i in range(len(word)-1):\n",
    "    print(i) \n",
    "    rev = rev + word[i]\n",
    "    print(rev)"
   ]
  },
  {
   "cell_type": "code",
   "execution_count": 47,
   "metadata": {},
   "outputs": [
    {
     "name": "stdout",
     "output_type": "stream",
     "text": [
      "8\n"
     ]
    }
   ],
   "source": [
    "length = 0 \n",
    "\n",
    "for whatever in word:\n",
    "    length += 1\n",
    "print(length)    \n",
    "    "
   ]
  },
  {
   "cell_type": "markdown",
   "metadata": {},
   "source": [
    "# List"
   ]
  },
  {
   "cell_type": "code",
   "execution_count": 41,
   "metadata": {
    "collapsed": true
   },
   "outputs": [],
   "source": [
    "odds = [1,2,3]"
   ]
  },
  {
   "cell_type": "code",
   "execution_count": 42,
   "metadata": {},
   "outputs": [
    {
     "data": {
      "text/plain": [
       "list"
      ]
     },
     "execution_count": 42,
     "metadata": {},
     "output_type": "execute_result"
    }
   ],
   "source": [
    "type(odds)"
   ]
  },
  {
   "cell_type": "code",
   "execution_count": 43,
   "metadata": {
    "collapsed": true
   },
   "outputs": [],
   "source": [
    "Elements = ['Oxigen','Nitrogen']"
   ]
  },
  {
   "cell_type": "code",
   "execution_count": 44,
   "metadata": {},
   "outputs": [
    {
     "data": {
      "text/plain": [
       "'Nitrogen'"
      ]
     },
     "execution_count": 44,
     "metadata": {},
     "output_type": "execute_result"
    }
   ],
   "source": [
    "Elements[1]"
   ]
  },
  {
   "cell_type": "code",
   "execution_count": 45,
   "metadata": {
    "scrolled": true
   },
   "outputs": [
    {
     "data": {
      "text/plain": [
       "3"
      ]
     },
     "execution_count": 45,
     "metadata": {},
     "output_type": "execute_result"
    }
   ],
   "source": [
    "odds[-1]"
   ]
  },
  {
   "cell_type": "code",
   "execution_count": 47,
   "metadata": {},
   "outputs": [
    {
     "name": "stdout",
     "output_type": "stream",
     "text": [
      "1\n",
      "2\n",
      "3\n"
     ]
    }
   ],
   "source": [
    "for num in odds:\n",
    "    print (num)\n",
    "    "
   ]
  },
  {
   "cell_type": "code",
   "execution_count": 48,
   "metadata": {
    "collapsed": true
   },
   "outputs": [],
   "source": [
    "Elements [0]='Hydrogen'"
   ]
  },
  {
   "cell_type": "code",
   "execution_count": 50,
   "metadata": {},
   "outputs": [
    {
     "data": {
      "text/plain": [
       "['Hydrogen', 'Nitrogen']"
      ]
     },
     "execution_count": 50,
     "metadata": {},
     "output_type": "execute_result"
    }
   ],
   "source": [
    "Elements"
   ]
  },
  {
   "cell_type": "code",
   "execution_count": 52,
   "metadata": {},
   "outputs": [],
   "source": [
    "Nested=[['g-1','g2'],['g3','g4']]"
   ]
  },
  {
   "cell_type": "code",
   "execution_count": 53,
   "metadata": {},
   "outputs": [
    {
     "data": {
      "text/plain": [
       "'g-1'"
      ]
     },
     "execution_count": 53,
     "metadata": {},
     "output_type": "execute_result"
    }
   ],
   "source": [
    "Nested[0][0]"
   ]
  },
  {
   "cell_type": "code",
   "execution_count": 55,
   "metadata": {},
   "outputs": [],
   "source": [
    "Nested.append(['g5'])"
   ]
  },
  {
   "cell_type": "code",
   "execution_count": 56,
   "metadata": {},
   "outputs": [
    {
     "data": {
      "text/plain": [
       "[['g-1', 'g2'], ['g3', 'g4'], ['g5']]"
      ]
     },
     "execution_count": 56,
     "metadata": {},
     "output_type": "execute_result"
    }
   ],
   "source": [
    "Nested\n"
   ]
  },
  {
   "cell_type": "code",
   "execution_count": 63,
   "metadata": {},
   "outputs": [],
   "source": [
    "Nested[2].append(['g7'])"
   ]
  },
  {
   "cell_type": "code",
   "execution_count": 64,
   "metadata": {},
   "outputs": [
    {
     "data": {
      "text/plain": [
       "[['g-1', 'g2'], ['g3', 'g4'], ['g5', ['g6'], ['g7']]]"
      ]
     },
     "execution_count": 64,
     "metadata": {},
     "output_type": "execute_result"
    }
   ],
   "source": [
    "Nested"
   ]
  },
  {
   "cell_type": "code",
   "execution_count": 68,
   "metadata": {},
   "outputs": [],
   "source": [
    "odds.remove(2)"
   ]
  },
  {
   "cell_type": "code",
   "execution_count": 69,
   "metadata": {
    "collapsed": true
   },
   "outputs": [],
   "source": [
    "prime=list(odds)"
   ]
  },
  {
   "cell_type": "code",
   "execution_count": 70,
   "metadata": {},
   "outputs": [
    {
     "data": {
      "text/plain": [
       "[1, 3]"
      ]
     },
     "execution_count": 70,
     "metadata": {},
     "output_type": "execute_result"
    }
   ],
   "source": [
    "prime"
   ]
  },
  {
   "cell_type": "code",
   "execution_count": 71,
   "metadata": {
    "collapsed": true
   },
   "outputs": [],
   "source": [
    "prime.append(11)"
   ]
  },
  {
   "cell_type": "code",
   "execution_count": null,
   "metadata": {
    "collapsed": true
   },
   "outputs": [],
   "source": [
    "word ='Universe'"
   ]
  },
  {
   "cell_type": "code",
   "execution_count": 74,
   "metadata": {},
   "outputs": [
    {
     "name": "stdout",
     "output_type": "stream",
     "text": [
      "['U']\n",
      "['U', 'n']\n",
      "['U', 'n', 'i']\n",
      "['U', 'n', 'i', 'v']\n",
      "['U', 'n', 'i', 'v', 'e']\n",
      "['U', 'n', 'i', 'v', 'e', 'r']\n",
      "['U', 'n', 'i', 'v', 'e', 'r', 's']\n",
      "['U', 'n', 'i', 'v', 'e', 'r', 's', 'e']\n"
     ]
    }
   ],
   "source": [
    "word_list=[]\n",
    "for letter in word:\n",
    "    word_list.append(letter)\n",
    "\n",
    "    print(word_list)"
   ]
  },
  {
   "cell_type": "code",
   "execution_count": 76,
   "metadata": {},
   "outputs": [],
   "source": [
    "left='L'\n",
    "Right='R'\n",
    "temp=Right\n",
    "Right=left\n",
    "\n",
    "\n",
    "left,right=list((Right,left))"
   ]
  },
  {
   "cell_type": "code",
   "execution_count": 77,
   "metadata": {},
   "outputs": [
    {
     "data": {
      "text/plain": [
       "('L', 'L')"
      ]
     },
     "execution_count": 77,
     "metadata": {},
     "output_type": "execute_result"
    }
   ],
   "source": [
    "left,Right"
   ]
  },
  {
   "cell_type": "code",
   "execution_count": 49,
   "metadata": {
    "collapsed": true
   },
   "outputs": [],
   "source": [
    "range?"
   ]
  },
  {
   "cell_type": "markdown",
   "metadata": {},
   "source": [
    "Loop in Python"
   ]
  },
  {
   "cell_type": "code",
   "execution_count": 8,
   "metadata": {
    "collapsed": true
   },
   "outputs": [],
   "source": [
    "Word = \"Universe\""
   ]
  },
  {
   "cell_type": "code",
   "execution_count": 10,
   "metadata": {},
   "outputs": [
    {
     "data": {
      "text/plain": [
       "'U'"
      ]
     },
     "execution_count": 10,
     "metadata": {},
     "output_type": "execute_result"
    }
   ],
   "source": [
    "Word[0]"
   ]
  },
  {
   "cell_type": "code",
   "execution_count": 12,
   "metadata": {},
   "outputs": [
    {
     "name": "stdout",
     "output_type": "stream",
     "text": [
      "U\n",
      "n\n",
      "i\n",
      "v\n",
      "e\n",
      "r\n",
      "s\n",
      "e\n",
      "Outside the loop\n"
     ]
    }
   ],
   "source": [
    "for letter in Word:\n",
    "    print(letter)\n",
    "print('Outside the loop')"
   ]
  },
  {
   "cell_type": "code",
   "execution_count": 15,
   "metadata": {},
   "outputs": [
    {
     "name": "stdout",
     "output_type": "stream",
     "text": [
      "8\n"
     ]
    }
   ],
   "source": [
    "count =0\n",
    "for i in Word:\n",
    "    count +=1\n",
    "print (count)"
   ]
  },
  {
   "cell_type": "code",
   "execution_count": 51,
   "metadata": {},
   "outputs": [
    {
     "name": "stdout",
     "output_type": "stream",
     "text": [
      "i= 0\n",
      "i= 1\n",
      "i= 2\n",
      "8\n"
     ]
    }
   ],
   "source": [
    "result = 1\n",
    "for i in range(0,y):\n",
    "    result= result*x\n",
    "    print(\"i=\", i)\n",
    "    \n",
    "print(result)    "
   ]
  },
  {
   "cell_type": "code",
   "execution_count": 53,
   "metadata": {},
   "outputs": [
    {
     "name": "stdout",
     "output_type": "stream",
     "text": [
      "0\n",
      "1\n",
      "2\n",
      "3\n",
      "4\n",
      "5\n",
      "6\n",
      "7\n",
      "16\n"
     ]
    }
   ],
   "source": [
    "for i,whatever in enumerate(word):\n",
    "    length += 1\n",
    "    print (i)\n",
    "print(length)    "
   ]
  },
  {
   "cell_type": "code",
   "execution_count": 58,
   "metadata": {},
   "outputs": [
    {
     "name": "stdout",
     "output_type": "stream",
     "text": [
      "i= 0 char = N reverse_string : N\n",
      "i= 1 char = e reverse_string : eN\n",
      "i= 2 char = w reverse_string : weN\n",
      "i= 3 char = t reverse_string : tweN\n",
      "i= 4 char = o reverse_string : otweN\n",
      "i= 5 char = n reverse_string : notweN\n",
      "reverse_string= notweN\n"
     ]
    }
   ],
   "source": [
    "string = \"Newton\"\n",
    "reverse_string = ''\n",
    "\n",
    "for i,char in enumerate(string):\n",
    "    reverse_string=char+reverse_string\n",
    "    print('i=',i, 'char =', char, 'reverse_string :', reverse_string)\n",
    "\n",
    "print ('reverse_string=', reverse_string)"
   ]
  },
  {
   "cell_type": "code",
   "execution_count": 64,
   "metadata": {},
   "outputs": [
    {
     "name": "stdout",
     "output_type": "stream",
     "text": [
      "n\n",
      "o\n",
      "t\n",
      "w\n",
      "e\n",
      "N\n",
      "reverse_string= notweN\n"
     ]
    }
   ],
   "source": [
    "reverse_string=''\n",
    "for i in range(len(string)):\n",
    "   print(string[-i-1])\n",
    "   reverse_string=  reverse_string+ string[-i-1]\n",
    "    \n",
    "print ('reverse_string=', reverse_string)   "
   ]
  },
  {
   "cell_type": "code",
   "execution_count": 70,
   "metadata": {},
   "outputs": [
    {
     "name": "stdout",
     "output_type": "stream",
     "text": [
      "-1 n\n",
      "-2 o\n",
      "-3 t\n",
      "-4 w\n",
      "-5 e\n",
      "-6 N\n"
     ]
    }
   ],
   "source": [
    "for i in range(-1,-len(string)-1, -1):\n",
    "    print(i,string[i])"
   ]
  },
  {
   "cell_type": "code",
   "execution_count": 71,
   "metadata": {},
   "outputs": [
    {
     "ename": "TypeError",
     "evalue": "'str' object does not support item assignment",
     "output_type": "error",
     "traceback": [
      "\u001b[0;31m---------------------------------------------------------------------------\u001b[0m",
      "\u001b[0;31mTypeError\u001b[0m                                 Traceback (most recent call last)",
      "\u001b[0;32m<ipython-input-71-abfac47875dd>\u001b[0m in \u001b[0;36m<module>\u001b[0;34m()\u001b[0m\n\u001b[1;32m      2\u001b[0m \u001b[0mreverse\u001b[0m\u001b[0;34m=\u001b[0m\u001b[0;34m''\u001b[0m\u001b[0;34m\u001b[0m\u001b[0m\n\u001b[1;32m      3\u001b[0m \u001b[0;32mfor\u001b[0m \u001b[0mi\u001b[0m \u001b[0;32min\u001b[0m \u001b[0mrange\u001b[0m\u001b[0;34m(\u001b[0m\u001b[0;36m0\u001b[0m\u001b[0;34m,\u001b[0m \u001b[0mlen\u001b[0m\u001b[0;34m(\u001b[0m\u001b[0mstring\u001b[0m\u001b[0;34m)\u001b[0m\u001b[0;34m)\u001b[0m\u001b[0;34m:\u001b[0m\u001b[0;34m\u001b[0m\u001b[0m\n\u001b[0;32m----> 4\u001b[0;31m     \u001b[0mreverse\u001b[0m\u001b[0;34m[\u001b[0m\u001b[0mi\u001b[0m\u001b[0;34m]\u001b[0m\u001b[0;34m=\u001b[0m\u001b[0mstring\u001b[0m\u001b[0;34m[\u001b[0m\u001b[0;34m-\u001b[0m\u001b[0;34m(\u001b[0m\u001b[0mi\u001b[0m\u001b[0;34m+\u001b[0m\u001b[0;36m1\u001b[0m\u001b[0;34m)\u001b[0m\u001b[0;34m]\u001b[0m\u001b[0;34m\u001b[0m\u001b[0m\n\u001b[0m\u001b[1;32m      5\u001b[0m     \u001b[0mprint\u001b[0m\u001b[0;34m(\u001b[0m\u001b[0mreverse\u001b[0m\u001b[0;34m)\u001b[0m\u001b[0;34m\u001b[0m\u001b[0m\n\u001b[1;32m      6\u001b[0m \u001b[0;34m\u001b[0m\u001b[0m\n",
      "\u001b[0;31mTypeError\u001b[0m: 'str' object does not support item assignment"
     ]
    }
   ],
   "source": [
    "string = 'this is a string'\n",
    "reverse=''\n",
    "for i in range(0, len(string)):\n",
    "    reverse[i]=string[-(i+1)]\n",
    "    print(reverse)\n",
    "    \n",
    "print(reverse)"
   ]
  },
  {
   "cell_type": "code",
   "execution_count": 72,
   "metadata": {},
   "outputs": [
    {
     "data": {
      "text/plain": [
       "str"
      ]
     },
     "execution_count": 72,
     "metadata": {},
     "output_type": "execute_result"
    }
   ],
   "source": [
    "type(string)"
   ]
  },
  {
   "cell_type": "code",
   "execution_count": 73,
   "metadata": {
    "collapsed": true
   },
   "outputs": [],
   "source": [
    "mylist = [1,2,3,4]\n"
   ]
  },
  {
   "cell_type": "code",
   "execution_count": 74,
   "metadata": {},
   "outputs": [
    {
     "data": {
      "text/plain": [
       "[1, 2, 3, 4]"
      ]
     },
     "execution_count": 74,
     "metadata": {},
     "output_type": "execute_result"
    }
   ],
   "source": [
    "mylist"
   ]
  },
  {
   "cell_type": "code",
   "execution_count": 75,
   "metadata": {},
   "outputs": [
    {
     "data": {
      "text/plain": [
       "['A', 'B', 'c']"
      ]
     },
     "execution_count": 75,
     "metadata": {},
     "output_type": "execute_result"
    }
   ],
   "source": [
    "mylist2 = ['A', 'B', 'c']\n",
    "mylist2"
   ]
  },
  {
   "cell_type": "code",
   "execution_count": 77,
   "metadata": {},
   "outputs": [
    {
     "data": {
      "text/plain": [
       "1"
      ]
     },
     "execution_count": 77,
     "metadata": {},
     "output_type": "execute_result"
    }
   ],
   "source": [
    "mylist[0]"
   ]
  },
  {
   "cell_type": "code",
   "execution_count": 78,
   "metadata": {
    "collapsed": true
   },
   "outputs": [],
   "source": [
    "mylist[0]=11\n"
   ]
  },
  {
   "cell_type": "code",
   "execution_count": 80,
   "metadata": {},
   "outputs": [
    {
     "data": {
      "text/plain": [
       "[11, 2, 3, 4]"
      ]
     },
     "execution_count": 80,
     "metadata": {},
     "output_type": "execute_result"
    }
   ],
   "source": [
    "mylist"
   ]
  },
  {
   "cell_type": "code",
   "execution_count": 81,
   "metadata": {},
   "outputs": [
    {
     "name": "stdout",
     "output_type": "stream",
     "text": [
      "11\n",
      "2\n",
      "3\n",
      "4\n"
     ]
    }
   ],
   "source": [
    "for elem in mylist:\n",
    "    print(elem)"
   ]
  },
  {
   "cell_type": "code",
   "execution_count": 82,
   "metadata": {
    "collapsed": true
   },
   "outputs": [],
   "source": [
    "mylist3=[[1,3,5],[0,2,4]]"
   ]
  },
  {
   "cell_type": "code",
   "execution_count": 83,
   "metadata": {},
   "outputs": [
    {
     "data": {
      "text/plain": [
       "[[1, 3, 5], [0, 2, 4]]"
      ]
     },
     "execution_count": 83,
     "metadata": {},
     "output_type": "execute_result"
    }
   ],
   "source": [
    "mylist3"
   ]
  },
  {
   "cell_type": "code",
   "execution_count": 84,
   "metadata": {},
   "outputs": [
    {
     "data": {
      "text/plain": [
       "[1, 3, 5]"
      ]
     },
     "execution_count": 84,
     "metadata": {},
     "output_type": "execute_result"
    }
   ],
   "source": [
    "mylist3[0]"
   ]
  },
  {
   "cell_type": "code",
   "execution_count": 85,
   "metadata": {},
   "outputs": [
    {
     "data": {
      "text/plain": [
       "1"
      ]
     },
     "execution_count": 85,
     "metadata": {},
     "output_type": "execute_result"
    }
   ],
   "source": [
    "mylist3[0][0]"
   ]
  },
  {
   "cell_type": "code",
   "execution_count": 86,
   "metadata": {},
   "outputs": [
    {
     "data": {
      "text/plain": [
       "[11, 2, 3, 4]"
      ]
     },
     "execution_count": 86,
     "metadata": {},
     "output_type": "execute_result"
    }
   ],
   "source": [
    "# back to mylist:\n",
    "\n",
    "mylist"
   ]
  },
  {
   "cell_type": "code",
   "execution_count": 87,
   "metadata": {
    "collapsed": true
   },
   "outputs": [],
   "source": [
    "mylist.append(5)"
   ]
  },
  {
   "cell_type": "code",
   "execution_count": 88,
   "metadata": {},
   "outputs": [
    {
     "data": {
      "text/plain": [
       "[11, 2, 3, 4, 5]"
      ]
     },
     "execution_count": 88,
     "metadata": {},
     "output_type": "execute_result"
    }
   ],
   "source": [
    "mylist"
   ]
  },
  {
   "cell_type": "code",
   "execution_count": 89,
   "metadata": {
    "collapsed": true
   },
   "outputs": [],
   "source": [
    "del mylist[0]"
   ]
  },
  {
   "cell_type": "code",
   "execution_count": 90,
   "metadata": {},
   "outputs": [
    {
     "data": {
      "text/plain": [
       "[2, 3, 4, 5]"
      ]
     },
     "execution_count": 90,
     "metadata": {},
     "output_type": "execute_result"
    }
   ],
   "source": [
    "mylist"
   ]
  },
  {
   "cell_type": "code",
   "execution_count": 92,
   "metadata": {
    "collapsed": true
   },
   "outputs": [],
   "source": [
    "mylist.reverse()"
   ]
  },
  {
   "cell_type": "code",
   "execution_count": 93,
   "metadata": {},
   "outputs": [
    {
     "data": {
      "text/plain": [
       "[5, 4, 3, 2]"
      ]
     },
     "execution_count": 93,
     "metadata": {},
     "output_type": "execute_result"
    }
   ],
   "source": [
    "mylist"
   ]
  },
  {
   "cell_type": "code",
   "execution_count": 95,
   "metadata": {
    "collapsed": true
   },
   "outputs": [],
   "source": [
    "mylist.index?"
   ]
  },
  {
   "cell_type": "code",
   "execution_count": 96,
   "metadata": {},
   "outputs": [
    {
     "name": "stdout",
     "output_type": "stream",
     "text": [
      "Help on built-in function index:\n",
      "\n",
      "index(...) method of builtins.list instance\n",
      "    L.index(value, [start, [stop]]) -> integer -- return first index of value.\n",
      "    Raises ValueError if the value is not present.\n",
      "\n"
     ]
    }
   ],
   "source": [
    "help(mylist.index)"
   ]
  },
  {
   "cell_type": "code",
   "execution_count": 97,
   "metadata": {
    "collapsed": true
   },
   "outputs": [],
   "source": [
    "mylist4=[\"h\",\"e\",\"l\",\"l\",\"o\"]\n"
   ]
  },
  {
   "cell_type": "code",
   "execution_count": 100,
   "metadata": {},
   "outputs": [
    {
     "name": "stdout",
     "output_type": "stream",
     "text": [
      "h h\n",
      "e he\n",
      "l hel\n",
      "l hell\n",
      "o hello\n",
      "hello\n"
     ]
    }
   ],
   "source": [
    "string = ''\n",
    "for char in mylist4:\n",
    "    string += char\n",
    "    print(char, string)\n",
    "    \n",
    "print (string)"
   ]
  },
  {
   "cell_type": "code",
   "execution_count": 105,
   "metadata": {},
   "outputs": [
    {
     "name": "stdout",
     "output_type": "stream",
     "text": [
      "hello\n"
     ]
    }
   ],
   "source": [
    "count=0\n",
    "\n",
    "cons=\"\"\n",
    "\n",
    "st=\"\"\n",
    "\n",
    "for i,aye in enumerate(mylist4):\n",
    "\n",
    "        st=mylist4[i]\n",
    "\n",
    "        cons=cons+st\n",
    "\n",
    "        #count=count+1\n",
    "\n",
    "print(cons)"
   ]
  },
  {
   "cell_type": "code",
   "execution_count": 107,
   "metadata": {},
   "outputs": [
    {
     "name": "stdout",
     "output_type": "stream",
     "text": [
      "h ['h']\n",
      "e ['h', 'e']\n",
      "l ['h', 'e', 'l']\n",
      "l ['h', 'e', 'l', 'l']\n",
      "o ['h', 'e', 'l', 'l', 'o']\n",
      "['h', 'e', 'l', 'l', 'o']\n"
     ]
    }
   ],
   "source": [
    "string = 'hello'\n",
    "mylist5=[]\n",
    "\n",
    "for char in string:\n",
    "    mylist5.append(char)\n",
    "    print(char, mylist5)\n",
    "print(mylist5) "
   ]
  },
  {
   "cell_type": "code",
   "execution_count": 110,
   "metadata": {
    "collapsed": true
   },
   "outputs": [],
   "source": [
    "left ='L'\n",
    "Right = 'R'\n",
    "\n",
    "temp = Right\n",
    "Right = left\n",
    "left=temp"
   ]
  },
  {
   "cell_type": "code",
   "execution_count": 111,
   "metadata": {},
   "outputs": [
    {
     "data": {
      "text/plain": [
       "('R', 'L')"
      ]
     },
     "execution_count": 111,
     "metadata": {},
     "output_type": "execute_result"
    }
   ],
   "source": [
    "left, Right"
   ]
  },
  {
   "cell_type": "code",
   "execution_count": 114,
   "metadata": {
    "collapsed": true
   },
   "outputs": [],
   "source": [
    "left ='L'\n",
    "Right = 'R'\n",
    "left, Right = [Right, left]\n"
   ]
  },
  {
   "cell_type": "code",
   "execution_count": 115,
   "metadata": {},
   "outputs": [
    {
     "data": {
      "text/plain": [
       "('R', 'L')"
      ]
     },
     "execution_count": 115,
     "metadata": {},
     "output_type": "execute_result"
    }
   ],
   "source": [
    "left, Right"
   ]
  },
  {
   "cell_type": "code",
   "execution_count": 116,
   "metadata": {
    "collapsed": true
   },
   "outputs": [],
   "source": [
    "var1 = 1\n",
    "var2 = var1\n",
    "var1 = 20"
   ]
  },
  {
   "cell_type": "code",
   "execution_count": 117,
   "metadata": {},
   "outputs": [
    {
     "data": {
      "text/plain": [
       "1"
      ]
     },
     "execution_count": 117,
     "metadata": {},
     "output_type": "execute_result"
    }
   ],
   "source": [
    "var2"
   ]
  },
  {
   "cell_type": "code",
   "execution_count": 118,
   "metadata": {
    "collapsed": true
   },
   "outputs": [],
   "source": [
    "# Load multiple files :\n",
    "\n"
   ]
  },
  {
   "cell_type": "code",
   "execution_count": 119,
   "metadata": {
    "collapsed": true
   },
   "outputs": [],
   "source": [
    "data = numpy.loadtxt(\"inflammation-01.csv\", delimiter=',')"
   ]
  },
  {
   "cell_type": "code",
   "execution_count": 120,
   "metadata": {
    "collapsed": true
   },
   "outputs": [],
   "source": [
    "import glob"
   ]
  },
  {
   "cell_type": "code",
   "execution_count": 121,
   "metadata": {},
   "outputs": [
    {
     "data": {
      "text/plain": [
       "['inflammation-01.csv',\n",
       " 'inflammation-02.csv',\n",
       " 'inflammation-03.csv',\n",
       " 'inflammation-04.csv',\n",
       " 'inflammation-05.csv',\n",
       " 'inflammation-06.csv',\n",
       " 'inflammation-07.csv',\n",
       " 'inflammation-08.csv',\n",
       " 'inflammation-09.csv',\n",
       " 'inflammation-10.csv',\n",
       " 'inflammation-11.csv',\n",
       " 'inflammation-12.csv']"
      ]
     },
     "execution_count": 121,
     "metadata": {},
     "output_type": "execute_result"
    }
   ],
   "source": [
    "glob.glob(\"inflammation*\")"
   ]
  },
  {
   "cell_type": "code",
   "execution_count": 127,
   "metadata": {},
   "outputs": [
    {
     "name": "stdout",
     "output_type": "stream",
     "text": [
      "------------------\n",
      "filename: inflammation-01.csv\n",
      "mean : 6.14875\n",
      "------------------\n",
      "filename: inflammation-02.csv\n",
      "mean : 5.99083333333\n",
      "------------------\n",
      "filename: inflammation-03.csv\n",
      "mean : 4.20458333333\n",
      "------------------\n",
      "filename: inflammation-04.csv\n",
      "mean : 6.10958333333\n",
      "------------------\n",
      "filename: inflammation-05.csv\n",
      "mean : 6.11833333333\n",
      "------------------\n",
      "filename: inflammation-06.csv\n",
      "mean : 6.04333333333\n",
      "------------------\n",
      "filename: inflammation-07.csv\n",
      "mean : 6.01958333333\n",
      "------------------\n",
      "filename: inflammation-08.csv\n",
      "mean : 4.20458333333\n",
      "------------------\n",
      "filename: inflammation-09.csv\n",
      "mean : 6.03291666667\n",
      "------------------\n",
      "filename: inflammation-10.csv\n",
      "mean : 6.0525\n",
      "------------------\n",
      "filename: inflammation-11.csv\n",
      "mean : 4.20458333333\n",
      "------------------\n",
      "filename: inflammation-12.csv\n",
      "mean : 6.06166666667\n"
     ]
    }
   ],
   "source": [
    "file_list = glob.glob(\"inflammation*\")\n",
    "for filename in file_list:\n",
    "    data = numpy.loadtxt(filename, delimiter=',')\n",
    "    print (\"------------------\")\n",
    "    print('filename:', filename)\n",
    "    print('mean :',data.mean())"
   ]
  },
  {
   "cell_type": "code",
   "execution_count": 132,
   "metadata": {},
   "outputs": [
    {
     "name": "stdout",
     "output_type": "stream",
     "text": [
      "------------------\n",
      "filename: inflammation-01.csv\n",
      "mean : [ 5.45   5.425  6.1    5.9    5.55   6.225  5.975  6.65   6.625  6.525\n",
      "  6.775  5.8    6.225  5.75   5.225  6.3    6.55   5.7    5.85   6.55\n",
      "  5.775  5.825  6.175  6.1    5.8    6.425  6.05   6.025  6.175  6.55\n",
      "  6.175  6.35   6.725  6.125  7.075  5.725  5.925  6.15   6.075  5.75\n",
      "  5.975  5.725  6.3    5.9    6.75   5.925  7.225  6.15   5.95   6.275  5.7\n",
      "  6.1    6.825  5.975  6.725  5.7    6.25   6.4    7.05   5.9  ]\n",
      "------------------\n",
      "filename: inflammation-02.csv\n",
      "mean : [ 6.35   5.7    5.9    5.325  6.05   5.675  6.25   5.425  5.35   5.675\n",
      "  5.95   6.375  5.475  6.075  6.35   5.725  6.025  6.025  6.     5.975\n",
      "  6.15   5.975  6.125  6.55   6.25   6.725  5.325  5.15   6.     6.3    6.25\n",
      "  5.8    5.475  6.125  6.075  5.4    6.075  5.45   6.175  6.2    6.175  6.1\n",
      "  5.725  6.375  6.025  5.8    5.8    6.825  6.25   5.35   5.575  6.     5.1\n",
      "  5.475  6.9    6.025  6.025  6.55   7.2    6.925]\n",
      "------------------\n",
      "filename: inflammation-03.csv\n",
      "mean : [ 4.     4.225  3.9    3.7    4.075  3.95   4.55   3.45   3.975  4.525\n",
      "  4.425  4.225  3.85   4.925  4.5    3.225  4.4    4.275  4.5    4.125  4.7\n",
      "  5.9    3.975  4.     5.275  4.075  4.475  3.7    3.775  3.7    3.925\n",
      "  4.525  4.125  4.025  4.1    4.675  5.025  4.9    4.7    4.75   3.975\n",
      "  5.325  3.925  4.4    4.35   4.65   4.1    4.     4.4    4.575  3.9    4.65\n",
      "  3.725  4.     4.     5.2    4.325  3.575  4.075  0.   ]\n",
      "------------------\n",
      "filename: inflammation-04.csv\n",
      "mean : [ 5.725  6.125  5.925  5.6    6.95   6.525  7.075  6.475  6.4    6.175\n",
      "  5.725  6.825  6.175  6.225  6.8    5.925  5.75   5.85   6.525  5.4    6.4\n",
      "  5.925  7.025  6.75   5.65   6.425  6.35   5.975  5.675  6.725  6.025  6.\n",
      "  5.8    6.175  5.9    6.075  5.475  5.725  6.4    6.05   6.175  6.675  5.3\n",
      "  6.125  6.275  6.075  5.425  6.55   5.775  5.675  5.675  6.325  6.3    6.225\n",
      "  6.5    5.8    5.65   5.025  6.275  6.05 ]\n",
      "------------------\n",
      "filename: inflammation-05.csv\n",
      "mean : [ 5.775  6.35   6.3    6.7    6.3    6.225  6.5    5.875  6.55   6.225  6.6\n",
      "  5.65   4.85   6.6    5.025  5.925  6.4    7.1    6.6    7.1    5.425\n",
      "  5.775  5.725  6.475  6.5    6.2    6.075  6.475  5.45   5.9    5.275  6.1\n",
      "  6.475  6.15   5.1    5.9    5.9    6.2    6.55   6.35   5.55   7.025\n",
      "  6.425  6.2    5.2    6.6    6.1    5.725  6.425  6.6    6.45   6.425\n",
      "  6.475  5.7    6.425  5.45   5.075  5.825  6.55   6.225]\n",
      "------------------\n",
      "filename: inflammation-06.csv\n",
      "mean : [ 6.8    6.3    5.85   5.825  5.55   5.875  5.7    6.725  6.7    4.925  5.2\n",
      "  6.225  6.475  5.325  7.     5.725  6.35   6.65   5.725  6.25   6.05   6.15\n",
      "  5.8    6.5    5.65   5.65   4.85   6.575  6.1    5.775  5.75   5.6    5.75\n",
      "  5.85   6.025  6.1    6.5    6.225  6.7    6.725  6.525  5.725  6.075\n",
      "  6.05   5.375  6.475  5.225  5.55   6.4    6.225  6.2    5.925  6.4    6.275\n",
      "  6.375  5.875  5.575  6.275  6.4    6.175]\n",
      "------------------\n",
      "filename: inflammation-07.csv\n",
      "mean : [ 5.075  5.875  5.85   6.225  5.475  5.875  5.475  5.85   5.625  6.25\n",
      "  5.525  5.7    6.625  5.95   5.75   5.     5.875  6.5    5.675  6.35   6.25\n",
      "  5.45   6.1    7.075  6.175  5.975  6.275  6.475  6.325  6.325  5.65   5.95\n",
      "  6.275  5.825  6.725  6.15   6.25   6.725  6.025  6.     5.55   5.925\n",
      "  6.25   6.125  5.375  5.55   6.25   5.9    6.075  6.6    5.875  5.95   5.4\n",
      "  5.75   6.775  6.125  5.8    6.2    6.425  6.75 ]\n",
      "------------------\n",
      "filename: inflammation-08.csv\n",
      "mean : [ 4.     4.225  3.9    3.7    4.075  3.95   4.55   3.45   3.975  4.525\n",
      "  4.425  4.225  3.85   4.925  4.5    3.225  4.4    4.275  4.5    4.125  4.7\n",
      "  5.9    3.975  4.     5.275  4.075  4.475  3.7    3.775  3.7    3.925\n",
      "  4.525  4.125  4.025  4.1    4.675  5.025  4.9    4.7    4.75   3.975\n",
      "  5.325  3.925  4.4    4.35   4.65   4.1    4.     4.4    4.575  3.9    4.65\n",
      "  3.725  4.     4.     5.2    4.325  3.575  4.075  0.   ]\n",
      "------------------\n",
      "filename: inflammation-09.csv\n",
      "mean : [ 6.175  5.925  5.775  5.825  5.875  6.125  6.35   5.275  5.625  5.925\n",
      "  6.675  6.05   5.95   5.975  6.1    5.975  7.175  6.175  5.9    6.075\n",
      "  5.925  5.725  6.375  5.95   5.475  6.125  5.625  5.75   6.7    5.4    7.05\n",
      "  5.75   6.725  5.9    6.1    6.25   6.35   5.375  6.325  5.8    6.1    6.35\n",
      "  6.45   6.5    6.15   5.35   5.9    6.325  6.475  5.55   5.35   6.125\n",
      "  6.125  5.875  5.875  5.7    6.1    6.075  6.175  5.825]\n",
      "------------------\n",
      "filename: inflammation-10.csv\n",
      "mean : [ 5.775  5.45   6.575  6.275  6.45   6.1    5.9    6.3    5.325  5.625\n",
      "  5.35   5.95   6.275  6.8    7.25   5.775  6.45   6.075  6.2    5.875  6.3\n",
      "  6.525  6.475  5.5    5.475  6.625  5.1    5.5    7.425  5.75   5.8    5.975\n",
      "  6.225  6.425  6.325  5.9    6.6    6.1    6.475  5.575  6.05   6.725\n",
      "  6.475  6.15   5.475  6.725  5.55   5.875  6.1    6.05   5.825  5.875  5.8\n",
      "  6.1    6.05   5.725  5.325  6.45   5.7    5.275]\n",
      "------------------\n",
      "filename: inflammation-11.csv\n",
      "mean : [ 4.     4.225  3.9    3.7    4.075  3.95   4.55   3.45   3.975  4.525\n",
      "  4.425  4.225  3.85   4.925  4.5    3.225  4.4    4.275  4.5    4.125  4.7\n",
      "  5.9    3.975  4.     5.275  4.075  4.475  3.7    3.775  3.7    3.925\n",
      "  4.525  4.125  4.025  4.1    4.675  5.025  4.9    4.7    4.75   3.975\n",
      "  5.325  3.925  4.4    4.35   4.65   4.1    4.     4.4    4.575  3.9    4.65\n",
      "  3.725  4.     4.     5.2    4.325  3.575  4.075  0.   ]\n",
      "------------------\n",
      "filename: inflammation-12.csv\n",
      "mean : [ 6.525  5.45   5.425  6.1    5.5    5.875  6.175  6.475  6.625  6.2    6.35\n",
      "  5.925  6.5    5.625  6.025  5.9    6.375  5.9    6.125  6.475  5.8    5.775\n",
      "  6.2    5.8    5.625  6.5    5.9    6.725  5.525  6.825  5.375  7.2    6.7\n",
      "  6.4    5.325  4.825  5.525  6.05   5.275  5.8    5.975  5.85   5.825  5.9\n",
      "  6.025  6.225  5.975  6.5    6.375  6.725  6.425  5.35   6.05   5.95\n",
      "  5.625  6.025  6.4    6.875  6.025  6.9  ]\n"
     ]
    },
    {
     "data": {
      "image/png": "[encoded data removed]",
      "text/plain": [
       "<matplotlib.figure.Figure at 0x11a784358>"
      ]
     },
     "metadata": {},
     "output_type": "display_data"
    }
   ],
   "source": [
    "import matplotlib.pyplot as plt \n",
    "\n",
    "%matplotlib inline\n",
    "\n",
    "file_list = glob.glob(\"inflammation*\")\n",
    "\n",
    "\n",
    "\n",
    "for filename in file_list:\n",
    "    data = numpy.loadtxt(filename, delimiter=',')\n",
    "    print (\"------------------\")\n",
    "    print('filename:', filename)\n",
    "    print('mean :',numpy.mean(data, axis=1))\n",
    "    plt.plot(numpy.mean(data, axis=1))\n",
    "    "
   ]
  },
  {
   "cell_type": "code",
   "execution_count": null,
   "metadata": {
    "collapsed": true
   },
   "outputs": [],
   "source": [
    "import matgplotlib.py"
   ]
  },
  {
   "cell_type": "code",
   "execution_count": 131,
   "metadata": {},
   "outputs": [
    {
     "name": "stdout",
     "output_type": "stream",
     "text": [
      "------------------\n",
      "filename: inflammation-01.csv\n",
      "mean : [ 5.45   5.425  6.1    5.9    5.55   6.225  5.975  6.65   6.625  6.525\n",
      "  6.775  5.8    6.225  5.75   5.225  6.3    6.55   5.7    5.85   6.55\n",
      "  5.775  5.825  6.175  6.1    5.8    6.425  6.05   6.025  6.175  6.55\n",
      "  6.175  6.35   6.725  6.125  7.075  5.725  5.925  6.15   6.075  5.75\n",
      "  5.975  5.725  6.3    5.9    6.75   5.925  7.225  6.15   5.95   6.275  5.7\n",
      "  6.1    6.825  5.975  6.725  5.7    6.25   6.4    7.05   5.9  ]\n"
     ]
    },
    {
     "data": {
      "text/plain": [
       "[<matplotlib.lines.Line2D at 0x11a7b9cf8>]"
      ]
     },
     "execution_count": 131,
     "metadata": {},
     "output_type": "execute_result"
    },
    {
     "data": {
      "image/png": "[encoded data removed]",
      "text/plain": [
       "<matplotlib.figure.Figure at 0x11a5da7f0>"
      ]
     },
     "metadata": {},
     "output_type": "display_data"
    }
   ],
   "source": [
    "filename= file_list[0]\n",
    "\n",
    "data = numpy.loadtxt(filename, delimiter=',')\n",
    "print (\"------------------\")\n",
    "print('filename:', filename)\n",
    "print('mean :',numpy.mean(data, axis=1))\n",
    "plt.plot(numpy.mean(data, axis=1))"
   ]
  },
  {
   "cell_type": "code",
   "execution_count": null,
   "metadata": {
    "collapsed": true
   },
   "outputs": [],
   "source": [
    "plt.imshow(data)"
   ]
  },
  {
   "cell_type": "code",
   "execution_count": 80,
   "metadata": {},
   "outputs": [
    {
     "data": {
      "image/png": "[encoded data removed]",
      "text/plain": [
       "<matplotlib.figure.Figure at 0x825e908>"
      ]
     },
     "metadata": {},
     "output_type": "display_data"
    }
   ],
   "source": [
    "import numpy\n",
    "import matplotlib.pyplot\n",
    "\n",
    "data = numpy.loadtxt(fname='inflammation-02.csv', delimiter=',')\n",
    "\n",
    "fig = matplotlib.pyplot.figure(figsize=(10.0, 3.0))\n",
    "\n",
    "axes1 = fig.add_subplot(1, 3, 1)\n",
    "axes2 = fig.add_subplot(1, 3, 2)\n",
    "axes3 = fig.add_subplot(1, 3, 3)\n",
    "\n",
    "axes1.set_ylabel('average')\n",
    "axes1.plot(numpy.mean(data, axis=0))\n",
    "\n",
    "axes2.set_ylabel('max')\n",
    "axes2.plot(numpy.max(data, axis=0))\n",
    "\n",
    "axes3.set_ylabel('min')\n",
    "axes3.plot(numpy.min(data, axis=0))\n",
    "\n",
    "fig.tight_layout()\n",
    "\n",
    "matplotlib.pyplot.show()"
   ]
  },
  {
   "cell_type": "code",
   "execution_count": 99,
   "metadata": {
    "collapsed": true
   },
   "outputs": [],
   "source": [
    "import glob"
   ]
  },
  {
   "cell_type": "code",
   "execution_count": 100,
   "metadata": {},
   "outputs": [
    {
     "name": "stdout",
     "output_type": "stream",
     "text": [
      "['data\\\\inflammation-01.csv', 'data\\\\inflammation-02.csv', 'data\\\\inflammation-03.csv', 'data\\\\inflammation-04.csv', 'data\\\\inflammation-05.csv', 'data\\\\inflammation-06.csv', 'data\\\\inflammation-07.csv', 'data\\\\inflammation-08.csv', 'data\\\\inflammation-09.csv', 'data\\\\inflammation-10.csv', 'data\\\\inflammation-11.csv', 'data\\\\inflammation-12.csv']\n"
     ]
    }
   ],
   "source": [
    "print(glob.glob('data/inflammation*'))"
   ]
  },
  {
   "cell_type": "code",
   "execution_count": 101,
   "metadata": {},
   "outputs": [],
   "source": [
    "file_list = glob.glob('data/inflammation*')"
   ]
  },
  {
   "cell_type": "code",
   "execution_count": 102,
   "metadata": {},
   "outputs": [
    {
     "data": {
      "text/plain": [
       "['data\\\\inflammation-01.csv',\n",
       " 'data\\\\inflammation-02.csv',\n",
       " 'data\\\\inflammation-03.csv',\n",
       " 'data\\\\inflammation-04.csv',\n",
       " 'data\\\\inflammation-05.csv',\n",
       " 'data\\\\inflammation-06.csv',\n",
       " 'data\\\\inflammation-07.csv',\n",
       " 'data\\\\inflammation-08.csv',\n",
       " 'data\\\\inflammation-09.csv',\n",
       " 'data\\\\inflammation-10.csv',\n",
       " 'data\\\\inflammation-11.csv',\n",
       " 'data\\\\inflammation-12.csv']"
      ]
     },
     "execution_count": 102,
     "metadata": {},
     "output_type": "execute_result"
    }
   ],
   "source": [
    "file_list"
   ]
  },
  {
   "cell_type": "code",
   "execution_count": 105,
   "metadata": {},
   "outputs": [
    {
     "data": {
      "image/png": "[encoded data removed]",
      "text/plain": [
       "<matplotlib.figure.Figure at 0x851d6a0>"
      ]
     },
     "metadata": {},
     "output_type": "display_data"
    },
    {
     "data": {
      "image/png": "[encoded data removed]",
      "text/plain": [
       "<matplotlib.figure.Figure at 0x5f41d68>"
      ]
     },
     "metadata": {},
     "output_type": "display_data"
    },
    {
     "data": {
      "image/png": "[encoded data removed]",
      "text/plain": [
       "<matplotlib.figure.Figure at 0x92a8588>"
      ]
     },
     "metadata": {},
     "output_type": "display_data"
    },
    {
     "data": {
      "image/png": "[encoded data removed]",
      "text/plain": [
       "<matplotlib.figure.Figure at 0x958aa90>"
      ]
     },
     "metadata": {},
     "output_type": "display_data"
    },
    {
     "data": {
      "image/png": "[encoded data removed]",
      "text/plain": [
       "<matplotlib.figure.Figure at 0xa640710>"
      ]
     },
     "metadata": {},
     "output_type": "display_data"
    },
    {
     "data": {
      "image/png": "[encoded data removed]",
      "text/plain": [
       "<matplotlib.figure.Figure at 0xa7331d0>"
      ]
     },
     "metadata": {},
     "output_type": "display_data"
    },
    {
     "data": {
      "image/png": "[encoded data removed]",
      "text/plain": [
       "<matplotlib.figure.Figure at 0xa81dd30>"
      ]
     },
     "metadata": {},
     "output_type": "display_data"
    },
    {
     "data": {
      "image/png": "[encoded data removed]",
      "text/plain": [
       "<matplotlib.figure.Figure at 0xa912be0>"
      ]
     },
     "metadata": {},
     "output_type": "display_data"
    },
    {
     "data": {
      "image/png": "[encoded data removed]",
      "text/plain": [
       "<matplotlib.figure.Figure at 0xa971160>"
      ]
     },
     "metadata": {},
     "output_type": "display_data"
    },
    {
     "data": {
      "image/png": "[encoded data removed]",
      "text/plain": [
       "<matplotlib.figure.Figure at 0xaafa0b8>"
      ]
     },
     "metadata": {},
     "output_type": "display_data"
    },
    {
     "data": {
      "image/png": "[encoded data removed]",
      "text/plain": [
       "<matplotlib.figure.Figure at 0xa95be80>"
      ]
     },
     "metadata": {},
     "output_type": "display_data"
    },
    {
     "data": {
      "image/png": "[encoded data removed]",
      "text/plain": [
       "<matplotlib.figure.Figure at 0xabb6a20>"
      ]
     },
     "metadata": {},
     "output_type": "display_data"
    }
   ],
   "source": [
    "import numpy as np\n",
    "#import matplotlib.pyplot\n",
    "import matplotlib.pyplot as plt \n",
    "\n",
    "%matplotlib inline\n",
    "\n",
    "for n in file_list:\n",
    "    data = np.loadtxt(n,delimiter=',')\n",
    "\n",
    "    fig = plt.figure(figsize=(10.0, 3.0))\n",
    "\n",
    "    axes1 = fig.add_subplot(1, 3, 1)\n",
    "    axes2 = fig.add_subplot(1, 3, 2)\n",
    "    axes3 = fig.add_subplot(1, 3, 3)\n",
    "\n",
    "    axes1.set_ylabel('average')\n",
    "    axes1.plot(np.mean(data, axis=0))\n",
    "\n",
    "    axes2.set_ylabel('max')\n",
    "    axes2.plot(np.max(data, axis=0))\n",
    "\n",
    "    axes3.set_ylabel('min')\n",
    "    axes3.plot(np.min(data, axis=0))\n",
    "\n",
    "    fig.tight_layout()"
   ]
  },
  {
   "cell_type": "code",
   "execution_count": 98,
   "metadata": {},
   "outputs": [
    {
     "ename": "SyntaxError",
     "evalue": "invalid syntax (<ipython-input-98-8ea8a0d52ac5>, line 2)",
     "output_type": "error",
     "traceback": [
      "\u001b[1;36m  File \u001b[1;32m\"<ipython-input-98-8ea8a0d52ac5>\"\u001b[1;36m, line \u001b[1;32m2\u001b[0m\n\u001b[1;33m    if (num>30 or num=45):\u001b[0m\n\u001b[1;37m                     ^\u001b[0m\n\u001b[1;31mSyntaxError\u001b[0m\u001b[1;31m:\u001b[0m invalid syntax\n"
     ]
    }
   ],
   "source": [
    "num=20\n",
    "if (num>30 or num=45):\n",
    "    print(\"num is either large thatn 30 or = to 45\")\n",
    "elif num ==30:\n",
    "    print(\"Num is =30\")\n",
    "else:\n",
    "    print(\"num is <30\")"
   ]
  },
  {
   "cell_type": "code",
   "execution_count": null,
   "metadata": {
    "collapsed": true
   },
   "outputs": [],
   "source": []
  }
 ],
 "metadata": {
  "kernelspec": {
   "display_name": "Python 3",
   "language": "python",
   "name": "python3"
  },
  "language_info": {
   "codemirror_mode": {
    "name": "ipython",
    "version": 3
   },
   "file_extension": ".py",
   "mimetype": "text/x-python",
   "name": "python",
   "nbconvert_exporter": "python",
   "pygments_lexer": "ipython3",
   "version": "3.6.3"
  }
 },
 "nbformat": 4,
 "nbformat_minor": 2
}
